{
 "cells": [
  {
   "cell_type": "code",
   "execution_count": null,
   "source": [
    "# run in kernel python 3.8.10 64-bit\n",
    "\n"
   ],
   "outputs": [],
   "metadata": {}
  },
  {
   "cell_type": "code",
   "execution_count": 2,
   "source": [
    "!pip install mysql-connector-python\n",
    "\n",
    "import mysql.connector as connector\n",
    "\n",
    "from mysql.connector.pooling import MySQLConnectionPool"
   ],
   "outputs": [
    {
     "output_type": "stream",
     "name": "stdout",
     "text": [
      "Collecting mysql-connector-python\n",
      "  Downloading mysql_connector_python-8.2.0-py2.py3-none-any.whl (593 kB)\n",
      "\u001b[K     |████████████████████████████████| 593 kB 11.5 MB/s \n",
      "\u001b[?25hCollecting protobuf<=4.21.12,>=4.21.1\n",
      "  Downloading protobuf-4.21.12-cp37-abi3-manylinux2014_x86_64.whl (409 kB)\n",
      "\u001b[K     |████████████████████████████████| 409 kB 110.0 MB/s \n",
      "\u001b[?25hInstalling collected packages: protobuf, mysql-connector-python\n",
      "Successfully installed mysql-connector-python-8.2.0 protobuf-4.21.12\n"
     ]
    }
   ],
   "metadata": {}
  },
  {
   "cell_type": "markdown",
   "source": [
    "In this exercise you must create a pool of connections and get a connection from the pool to implement the stored procedures to complete the following tasks:\n",
    "\n",
    "* Establish a connection by importing MySQLConnectionPool and creating a pool with two connections.\n",
    "* Create and call a stored procedure named PeakHours that identifies the peak, or busiest hour, for the restaurant based on the number of bookings.\n",
    "* Create and call a stored procedure named GuestStatus that outputs status of each guest’s order based on which employee is assigned to the order.\n",
    "\n",
    "-Stored procedures are created to carry out routine operations on MySQL databases. They are consistent and make sure that the written SQL queries in the procedures are executed in the same way every time you call the stored procedure.\n",
    "\n",
    "-A stored procedure is created only once, and you store it in the MySQL database. You can call the stored procedures as many times as you need in your Python-based application.\n",
    "\n",
    "The tasks and the steps that you must follow to complete each one are as follows:"
   ],
   "metadata": {}
  },
  {
   "cell_type": "markdown",
   "source": [
    "## 1: Stablish a connection\n",
    "\n",
    "Complete the following steps to establish a connection pool:\n",
    "\n",
    "* To create a connection pool, import MySQLConnectionPool class from MySQL Connector/Python.\n",
    "* To find the information on the error, import the Error class from MySQL Connector/Python.\n",
    "*  Define your database configurations as a Python dictionary object called dbconfig.\n",
    "* Establish a connection pool [pool_name = pool_b] with two connections. \n",
    "* Implement error handling using a try-except block in case the connection fails. "
   ],
   "metadata": {}
  },
  {
   "cell_type": "code",
   "execution_count": 3,
   "source": [
    "dbconfig={\"database\":\"little_lemon_db\", \"user\":\"root\", \"password\":\"\"}"
   ],
   "outputs": [],
   "metadata": {}
  },
  {
   "cell_type": "code",
   "execution_count": 4,
   "source": [
    "## here yoyr code\n",
    "try:\n",
    "    pool = MySQLConnectionPool(\n",
    "        pool_name=\"pool_b\",\n",
    "        pool_size=2,\n",
    "        #database='little_lemon',\n",
    "        #user='root',\n",
    "        #password=''\n",
    "        **dbconfig\n",
    "        )\n",
    "except Error as er:\n",
    "    print(\"error code\", er.errno)\n",
    "    print(\"error message\", er.msg)"
   ],
   "outputs": [],
   "metadata": {}
  },
  {
   "cell_type": "code",
   "execution_count": null,
   "source": [],
   "outputs": [],
   "metadata": {}
  },
  {
   "cell_type": "markdown",
   "source": [
    "## Task 2: \n",
    "\n",
    "Three guests are trying to book dinner slots simultaneously. Get the connections from pool_b and insert the following data in the Bookings table:\n",
    "\n",
    "TIP: You need to add a connection to connect the third guest.\n",
    "\n",
    "Guest 1:\n",
    "\n",
    "    Table Number: 8\n",
    "    First Name: Anees\n",
    "    Last Name: Java\n",
    "    Booking Time: 18:00\n",
    "    EmployeeID: 6\n",
    "\n",
    "Guest 2:\n",
    "\n",
    "    Table Number: 5\n",
    "    First Name: Bald\n",
    "    Last Name: Vin\n",
    "    Booking Time: 19:00\n",
    "    EmployeeID: 6\n",
    "\n",
    "Guest 3:\n",
    "\n",
    "    Table Number: 12\n",
    "    First Name: Jay\n",
    "    Last Name: Kon\n",
    "    Booking Time: 19:30 \n",
    "    EmployeeID: 6\n",
    "\n",
    "Return all the connections back to the pool. \n",
    "\n",
    "TIP: The pool size is two. However, you have three connected users. You can only return two connections. Returning a third connection will raise a PoolError. Use try-except to print the error message.  "
   ],
   "metadata": {}
  },
  {
   "cell_type": "code",
   "execution_count": 5,
   "source": [
    "## write here your code\n",
    "import datetime as dt\n",
    "guests = {'g1':{'TableNo':8, 'GuestFirstName':'Anees','GuestLastName':'Java', 'BookingTime':'18:00','EmployeeID':6},\n",
    "'g2':{'TableNo':5, 'GuestFirstName':'Bald','GuestLastName':'Vin', 'BookingTime':'19:00','EmployeeID':6},\n",
    "'g3':{'TableNo':12, 'GuestFirstName':'Jay','GuestLastName':'Kon', 'BookingTime':'19:30','EmployeeID':6}}\n",
    "\n"
   ],
   "outputs": [],
   "metadata": {}
  },
  {
   "cell_type": "code",
   "execution_count": 6,
   "source": [
    "sql_guest_insert_rows = \"\"\"\n",
    "INSERT INTO Bookings (TableNo, GuestFirstName, GuestLastName, BookingSlot, EmployeeID)\n",
    "VALUES (%(tableno)s, %(guestfirstname)s, %(guestlastname)s, %(bookingtime)s, %(employeeid)s ) ;\n",
    "\"\"\"\n",
    "\n",
    "\n",
    "for  key,value in guests.items():#range(pool.pool_size):\n",
    "    print(\"======== Connecting for guest {} \".format(key))\n",
    "    print(value)\n",
    "    tableno=value['TableNo']\n",
    "    guestfirstname=value['GuestFirstName']\n",
    "    guestlastname=value['GuestLastName']\n",
    "    bookingtime=value['BookingTime']\n",
    "    employeeid=value['EmployeeID']\n",
    "    try:\n",
    "        conn=pool.get_connection()\n",
    "    except:\n",
    "        print(\"----full pools! adding new connections for {}: \".format(key))\n",
    "        pool.add_connection()\n",
    "        conn=pool.get_connection()\n",
    "    ### now we have connection for sure!\n",
    "    if conn.is_connected():\n",
    "        cursor=conn.cursor()\n",
    "        #print(\"the connection id for {} {} is requestinf info on booking {}\".format(guests[i], conn.connection_id, i +1) )\n",
    "        cursor.execute(sql_guest_insert_rows, {'tableno':tableno,'guestfirstname':guestfirstname , 'guestlastname': guestlastname,'bookingtime':bookingtime,'employeeid':employeeid})\n",
    "    #    print(cursor.fetchall())\n",
    "    else:\n",
    "        print(\"no live connection made. Maybe server is down\")\n",
    "    # now that you inset changes you have to commit them in the database\n",
    "    conn.commit()\n",
    "    # now give back the connection to the pool!\n",
    "    conn.close()"
   ],
   "outputs": [
    {
     "output_type": "stream",
     "name": "stdout",
     "text": [
      "======== Connecting for guest g1 \n",
      "{'TableNo': 8, 'GuestFirstName': 'Anees', 'GuestLastName': 'Java', 'BookingTime': '18:00', 'EmployeeID': 6}\n",
      "======== Connecting for guest g2 \n",
      "{'TableNo': 5, 'GuestFirstName': 'Bald', 'GuestLastName': 'Vin', 'BookingTime': '19:00', 'EmployeeID': 6}\n",
      "======== Connecting for guest g3 \n",
      "{'TableNo': 12, 'GuestFirstName': 'Jay', 'GuestLastName': 'Kon', 'BookingTime': '19:30', 'EmployeeID': 6}\n"
     ]
    }
   ],
   "metadata": {}
  },
  {
   "cell_type": "code",
   "execution_count": null,
   "source": [],
   "outputs": [],
   "metadata": {}
  },
  {
   "cell_type": "code",
   "execution_count": 7,
   "source": [
    "### check current content in the database. \n",
    "# NOTE: because we ran twice the code, and in the first one we did not commit, the Booking ID, instead of going 7,8,9 , jumps to 10,11,12\n",
    "\n",
    "sql_query_insert_info = \"\"\"SELECT * FROM Bookings;\"\"\"\n",
    "\n",
    "conn=pool.get_connection()\n",
    "#\n",
    "if conn.is_connected():\n",
    "    cursor=conn.cursor()\n",
    "    cursor.execute(sql_query_insert_info)\n",
    "    results_test = cursor.fetchall()\n",
    "    print(cursor.column_names)\n",
    "    for row in results_test:\n",
    "        print(row)\n",
    "else:\n",
    "    print(\"no live connection made\")\n",
    "conn.close()"
   ],
   "outputs": [
    {
     "output_type": "stream",
     "name": "stdout",
     "text": [
      "('BookingID', 'TableNo', 'GuestFirstName', 'GuestLastName', 'BookingSlot', 'EmployeeID')\n",
      "(1, 12, 'Anna', 'Iversen', datetime.timedelta(seconds=68400), 1)\n",
      "(2, 12, 'Joakim', 'Iversen', datetime.timedelta(seconds=68400), 1)\n",
      "(3, 19, 'Vanessa', 'McCarthy', datetime.timedelta(seconds=54000), 3)\n",
      "(4, 15, 'Marcos', 'Romero', datetime.timedelta(seconds=63000), 4)\n",
      "(5, 5, 'Hiroki', 'Yamane', datetime.timedelta(seconds=66600), 2)\n",
      "(6, 8, 'Diana', 'Pinto', datetime.timedelta(seconds=72000), 5)\n",
      "(10, 8, 'Anees', 'Java', datetime.timedelta(seconds=64800), 6)\n",
      "(11, 5, 'Bald', 'Vin', datetime.timedelta(seconds=68400), 6)\n",
      "(12, 12, 'Jay', 'Kon', datetime.timedelta(seconds=70200), 6)\n"
     ]
    }
   ],
   "metadata": {}
  },
  {
   "cell_type": "markdown",
   "source": [
    "## Task 3: \n",
    "\n",
    "Create a report containing the following information:\n",
    "\n",
    "1.  The name and EmployeeID of the Little Lemon manager\n",
    "2.  The name and role of the employee who receives the highest salary.\n",
    "3.  The number of guests booked between 18:00 and 20:00.\n",
    "4.  The full name and BookingID of all guests waiting to be seated with the receptionist in sorted order with respect to their BookingSlot."
   ],
   "metadata": {}
  },
  {
   "cell_type": "code",
   "execution_count": 47,
   "source": [
    "## your code here\n",
    "sql_report_pseudocode =\"\"\"\n",
    "SELECT EmployeeID of manager,\n",
    "    Name and Role of employee with highest salry,\n",
    "    n_guests booked between 18 and 20\n",
    "    full name and bookingid of guests waiting to be seated (receptionists in sorted order respect booking slot)\n",
    "\"\"\"\n",
    "\n",
    "\n",
    "sql_report_1 =\"\"\"\n",
    "SELECT EmployeeID,\n",
    "    Name,\n",
    "    Role\n",
    "    FROM Employees\n",
    "    WHERE Role ='Manager';\n",
    "\"\"\"\n",
    "sql_report_2 =\"\"\"\n",
    "SELECT EmployeeID,\n",
    "    Name,\n",
    "    Role,\n",
    "    CAST(REPLACE(REPLACE(Annual_Salary,\"$\",\"\"),\",\",\"\") AS UNSIGNED INTEGER) AS annualsalary\n",
    "FROM Employees\n",
    "ORDER BY annualsalary DESC\n",
    "LIMIT 1;\n",
    "\"\"\"\n",
    "sql_report_3 =\"\"\"\n",
    "SELECT BookingID,\n",
    "    HOUR(BookingSlot) as hourbooking\n",
    "FROM Bookings\n",
    "WHERE HOUR(BookingSlot) >=18 \n",
    "    AND  HOUR(BookingSlot) <=20 \n",
    ";\n",
    "\"\"\"\n",
    "\n",
    "sql_report_4 =\"\"\"\n",
    "SELECT  BookingID,\n",
    "    CONCAT(GuestFirstName,' ',GuestLastName) as fullname\n",
    "    FROM Bookings\n",
    "    ORDER BY BookingSlot ;\n",
    "\"\"\"\n",
    "\n",
    "\n",
    "\n"
   ],
   "outputs": [],
   "metadata": {}
  },
  {
   "cell_type": "code",
   "execution_count": 65,
   "source": [
    "#\n",
    "if conn.is_connected():\n",
    "    conn.close()"
   ],
   "outputs": [],
   "metadata": {}
  },
  {
   "cell_type": "code",
   "execution_count": 60,
   "source": [
    "### performs all the calls to the sqls in order and return the values into a variable before print all the results in a report style:\n",
    "\n",
    "conn=pool.get_connection()\n",
    "#\n",
    "if conn.is_connected():\n",
    "    cursor=conn.cursor(buffered=True)\n",
    "    cursor.execute(sql_report_1)\n",
    "    #1.  The name and EmployeeID of the Little Lemon manager\n",
    "    #2.  The name and role of the employee who receives the highest salary.\n",
    "    #3.  The number of guests booked between 18:00 and 20:00.\n",
    "    #4.  The full name and BookingID of all guests waiting to be seated with the receptionist in sorted order with respect to their BookingSlot.\n",
    "    print(\"================================================================================\") \n",
    "    print(\"=================================== REPORT =====================================\")\n",
    "    print(\"================================================================================\\n\") \n",
    "    print(\"-----------------------------------------------------------------------------------\")\n",
    "    print(\"1.  The name and EmployeeID of the Little Lemon manager\\n\")\n",
    "    print(cursor.column_names)\n",
    "    results_1 = cursor.fetchall()\n",
    "    for r1 in results_1:\n",
    "        print(r1) #cursor.column_names)\n",
    "    print(\"-----------------------------------------------------------------------------------\")\n",
    "    #for row in results_test:\n",
    "    #    print(row)\n",
    "    cursor.execute(sql_report_2)\n",
    "    print(\"-----------------------------------------------------------------------------------\")\n",
    "    print(\"2.  The name and role of the employee who receives the highest salary.\\n\")\n",
    "    print(cursor.column_names)\n",
    "    results_2 = cursor.fetchall()\n",
    "    for r2 in results_2:\n",
    "        print(r2)\n",
    "    print(\"-----------------------------------------------------------------------------------\")\n",
    "    #\n",
    "    cursor.execute(sql_report_3)\n",
    "    print(\"-----------------------------------------------------------------------------------\")\n",
    "    print(\"3.  The number of guests booked between 18:00 and 20:00.\\n\")\n",
    "    print(cursor.column_names)\n",
    "    results_3 = cursor.fetchall()\n",
    "    for r3 in results_3:\n",
    "        print(r3)\n",
    "    print(\"-----------------------------------------------------------------------------------\")\n",
    "    #\n",
    "    cursor.execute(sql_report_4)\n",
    "    print(\"-----------------------------------------------------------------------------------\")\n",
    "    print(\"4.  The full name and BookingID of all guests waiting to be seated with the receptionist in sorted order with respect to their BookingSlot.\\n\")\n",
    "    print(cursor.column_names)\n",
    "    results_4 = cursor.fetchall()\n",
    "    for r4 in results_4:\n",
    "        print(r4)\n",
    "    print(\"-----------------------------------------------------------------------------------\")\n",
    "    #\n",
    "    print(\"================================================= END OF REPORT ===========================================\")\n",
    "    # \n",
    "\n",
    "else:\n",
    "    print(\"no live connection made\")\n",
    "conn.close()\n"
   ],
   "outputs": [
    {
     "output_type": "stream",
     "name": "stdout",
     "text": [
      "================================================================================\n",
      "=================================== REPORT =====================================\n",
      "================================================================================\n",
      "\n",
      "-----------------------------------------------------------------------------------\n",
      "1.  The name and EmployeeID of the Little Lemon manager\n",
      "\n",
      "('EmployeeID', 'Name', 'Role')\n",
      "(1, 'Mario Gollini', 'Manager')\n",
      "-----------------------------------------------------------------------------------\n",
      "-----------------------------------------------------------------------------------\n",
      "2.  The name and role of the employee who receives the highest salary.\n",
      "\n",
      "('EmployeeID', 'Name', 'Role', 'annualsalary')\n",
      "(1, 'Mario Gollini', 'Manager', 70000)\n",
      "-----------------------------------------------------------------------------------\n",
      "-----------------------------------------------------------------------------------\n",
      "3.  The number of guests booked between 18:00 and 20:00.\n",
      "\n",
      "('BookingID', 'hourbooking')\n",
      "(1, 19)\n",
      "(2, 19)\n",
      "(5, 18)\n",
      "(6, 20)\n",
      "(10, 18)\n",
      "(11, 19)\n",
      "(12, 19)\n",
      "-----------------------------------------------------------------------------------\n",
      "-----------------------------------------------------------------------------------\n",
      "4.  The full name and BookingID of all guests waiting to be seated with the receptionist in sorted order with respect to their BookingSlot.\n",
      "\n",
      "('BookingID', 'fullname')\n",
      "(3, 'Vanessa McCarthy')\n",
      "(4, 'Marcos Romero')\n",
      "(10, 'Anees Java')\n",
      "(5, 'Hiroki Yamane')\n",
      "(1, 'Anna Iversen')\n",
      "(2, 'Joakim Iversen')\n",
      "(11, 'Bald Vin')\n",
      "(12, 'Jay Kon')\n",
      "(6, 'Diana Pinto')\n",
      "-----------------------------------------------------------------------------------\n",
      "================================================= END OF REPORT ===========================================\n"
     ]
    }
   ],
   "metadata": {}
  },
  {
   "cell_type": "markdown",
   "source": [
    "## TASK 4:\n",
    "\n",
    "Create a stored procedure named BasicSalesReport that returns the following statistics: \n",
    "\n",
    "* Total sales\n",
    "* Average sale\n",
    "* Minimum bill paid\n",
    "* Maximum bill paid"
   ],
   "metadata": {}
  },
  {
   "cell_type": "code",
   "execution_count": 63,
   "source": [
    "sql_procedure_basicsales = \"\"\"\n",
    "CREATE PROCEDURE BasicSalesReport()\n",
    "BEGIN\n",
    "    SELECT SUM(BillAmount) AS 'Total sales',\n",
    "        AVG(BillAmount) AS 'Average sale',\n",
    "        MIN(BillAmount) AS 'Minimum bill paid',\n",
    "        MAX(BillAmount) AS 'Maximum bill paid'\n",
    "    FROM Orders;\n",
    "END\n",
    "\"\"\""
   ],
   "outputs": [],
   "metadata": {}
  },
  {
   "cell_type": "code",
   "execution_count": 66,
   "source": [
    "# create and execute\n",
    "# STEP 2\n",
    "conn=pool.get_connection()\n",
    "if conn.is_connected():\n",
    "    cursor=conn.cursor()\n",
    "    cursor.execute(sql_procedure_basicsales)\n",
    "    print(\"procedure basicsales created\")\n",
    "else:\n",
    "    print(\"no live connection made\")\n",
    "conn.close()\n",
    "print(\"the connection is placed back into the pool for the next user to connect\")\n",
    "\n"
   ],
   "outputs": [
    {
     "output_type": "stream",
     "name": "stdout",
     "text": [
      "procedure basicsales created\n",
      "the connection is placed back into the pool for the next user to connect\n"
     ]
    }
   ],
   "metadata": {}
  },
  {
   "cell_type": "code",
   "execution_count": 67,
   "source": [
    "# STEP 3 : call procedure\n",
    "\n",
    "conn=pool.get_connection()\n",
    "if conn.is_connected():\n",
    "    cursor=conn.cursor()\n",
    "    cursor.callproc(\"BasicSalesReport\")\n",
    "    \n",
    "    #dataset = cursor.fetchall() NOT for PROCEDURES\n",
    "    results = next(cursor.stored_results())\n",
    "    #print(results.description)\n",
    "    columns = results.column_names\n",
    "    print(columns)\n",
    "    dataset = results.fetchall()\n",
    "\n",
    "    for row in dataset:\n",
    "        print(row)\n",
    "else:\n",
    "    print(\"no live connection made\")\n",
    "conn.close()\n",
    "print(\"the connection is placed back into the pool for the next user to connect\")"
   ],
   "outputs": [
    {
     "output_type": "stream",
     "name": "stdout",
     "text": [
      "('Total sales', 'Average sale', 'Minimum bill paid', 'Maximum bill paid')\n",
      "(Decimal('243'), Decimal('48.6000'), 37, 86)\n",
      "the connection is placed back into the pool for the next user to connect\n"
     ]
    }
   ],
   "metadata": {}
  },
  {
   "cell_type": "markdown",
   "source": [
    "## TASK 5: \n",
    "Little Lemon needs to display the next three upcoming bookings from the Bookings table on the kitchen screen to notify their chefs which orders are due next. To complete this task, carry out the following steps:\n",
    "\n",
    "* Get a connection from the pool.\n",
    "* Create a buffered cursor.\n",
    "* Combine the data from the Bookings and the Employee tables. Sort the retrieved records in ascending order. Then display the information of the first three guests. \n",
    "* Returned the connection back to the pool.\n",
    "\n",
    "The output should be as follows:\n",
    "\n",
    "[BookingSlot]\n",
    "\n",
    "[Guest_name]\n",
    "\n",
    "[Assigned to: Employee Name [Employee Role]]"
   ],
   "metadata": {}
  },
  {
   "cell_type": "code",
   "execution_count": 71,
   "source": [
    "## SQL test\n",
    "sql_test_chefnotifications = \"\"\" \n",
    "SELECT \n",
    "    Bookings.BookingID,\n",
    "    Bookings.BookingSlot,\n",
    "    CONCAT(Bookings.GuestFirstName,' ',Bookings.GuestLastName) AS Guest_name,\n",
    "    Employees.Name AS EmployeeName,\n",
    "    Employees.Role\n",
    "FROM Bookings\n",
    "LEFT JOIN Employees\n",
    "ON Bookings.EmployeeID = Employees.EmployeeID\n",
    "ORDER BY BookingSlot ASC\n",
    "LIMIT 3;\n",
    "\"\"\"\n",
    "\n"
   ],
   "outputs": [],
   "metadata": {}
  },
  {
   "cell_type": "code",
   "execution_count": 73,
   "source": [
    "if conn.is_connected():\n",
    "    conn.close()"
   ],
   "outputs": [],
   "metadata": {}
  },
  {
   "cell_type": "code",
   "execution_count": 76,
   "source": [
    "import datetime as dt\n",
    "\n",
    "## check\n",
    "conn=pool.get_connection()\n",
    "if conn.is_connected():\n",
    "    cursor=conn.cursor(buffered=True)\n",
    "    cursor.execute(sql_test_chefnotifications)\n",
    "    notificationinfo=cursor.fetchall()\n",
    "    print(notificationinfo)\n",
    "    #print(\"procedure basicsales created\")\n",
    "    for notification in notificationinfo:\n",
    "        print(\"-----------------------\\n Booking slot {} .\\n Guest name: {} .\\n Assigned to {} : ({}) .\\n-----------------------\".format(notification[1] ,notification[2], notification[3], notification[4] ))\n",
    "else:\n",
    "    print(\"No live connection made\")\n",
    "conn.close()\n",
    "print(\"\\n\\nThe connection is placed back into the pool for the next user to connect.\")"
   ],
   "outputs": [
    {
     "output_type": "stream",
     "name": "stdout",
     "text": [
      "[(3, datetime.timedelta(seconds=54000), 'Vanessa McCarthy', 'Giorgos Dioudis', 'Head Chef'), (4, datetime.timedelta(seconds=63000), 'Marcos Romero', 'Fatma Kaya', 'Assistant Chef'), (10, datetime.timedelta(seconds=64800), 'Anees Java', 'John Millar', 'Receptionist')]\n",
      "-----------------------\n",
      " Booking slot 15:00:00 .\n",
      " Guest name: Vanessa McCarthy .\n",
      " Assigned to Giorgos Dioudis : (Head Chef) .\n",
      "-----------------------\n",
      "-----------------------\n",
      " Booking slot 17:30:00 .\n",
      " Guest name: Marcos Romero .\n",
      " Assigned to Fatma Kaya : (Assistant Chef) .\n",
      "-----------------------\n",
      "-----------------------\n",
      " Booking slot 18:00:00 .\n",
      " Guest name: Anees Java .\n",
      " Assigned to John Millar : (Receptionist) .\n",
      "-----------------------\n",
      "\n",
      "\n",
      "the connection is placed back into the pool for the next user to connect\n"
     ]
    }
   ],
   "metadata": {}
  }
 ],
 "metadata": {
  "orig_nbformat": 4,
  "language_info": {
   "name": "python",
   "version": "3.8.10",
   "mimetype": "text/x-python",
   "codemirror_mode": {
    "name": "ipython",
    "version": 3
   },
   "pygments_lexer": "ipython3",
   "nbconvert_exporter": "python",
   "file_extension": ".py"
  },
  "kernelspec": {
   "name": "python3",
   "display_name": "Python 3.8.10 64-bit"
  },
  "interpreter": {
   "hash": "31f2aee4e71d21fbe5cf8b01ff0e069b9275f58929596ceb00d14d90e3e16cd6"
  }
 },
 "nbformat": 4,
 "nbformat_minor": 2
}