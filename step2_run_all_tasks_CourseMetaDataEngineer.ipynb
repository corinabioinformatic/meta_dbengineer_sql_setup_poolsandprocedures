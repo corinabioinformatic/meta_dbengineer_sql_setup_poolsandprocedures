{
 "cells": [
  {
   "cell_type": "markdown",
   "source": [
    "# Little Lemon analysis and sales report\n",
    "\n",
    "You have gained all the necessary skills and knowledge required to interact with the back-end MySQL database from your Python-based front-end application via the standard database client MySQL Connector/Python. \n",
    "\n",
    "Follow the instructions in the exercises given below and create a Jupyter notebook to produce a Little Lemon analysis and sales report. You need to submit this report for your peers to review."
   ],
   "metadata": {}
  },
  {
   "cell_type": "code",
   "execution_count": 77,
   "source": [
    "# run in kernel python 3.8.10 64-bit\n",
    "# Needed libraries for this exercise:\n",
    "\n",
    "!pip install mysql-connector-python\n",
    "\n",
    "import mysql.connector as connector\n",
    "\n",
    "from mysql.connector.pooling import MySQLConnectionPool\n",
    "\n",
    "import datetime as dt"
   ],
   "outputs": [
    {
     "output_type": "stream",
     "name": "stdout",
     "text": [
      "Requirement already satisfied: mysql-connector-python in /home/coder/.local/lib/python3.8/site-packages (8.2.0)\n",
      "Requirement already satisfied: protobuf<=4.21.12,>=4.21.1 in /home/coder/.local/lib/python3.8/site-packages (from mysql-connector-python) (4.21.12)\n"
     ]
    }
   ],
   "metadata": {}
  },
  {
   "cell_type": "markdown",
   "source": [
    "## Task 1: Stablish a connection\n",
    "\n",
    "Complete the following steps to establish a connection pool:\n",
    "\n",
    "* To create a connection pool, import MySQLConnectionPool class from MySQL Connector/Python.\n",
    "* To find the information on the error, import the Error class from MySQL Connector/Python.\n",
    "*  Define your database configurations as a Python dictionary object called dbconfig.\n",
    "* Establish a connection pool [pool_name = pool_b] with two connections. \n",
    "* Implement error handling using a try-except block in case the connection fails. "
   ],
   "metadata": {}
  },
  {
   "cell_type": "code",
   "execution_count": 78,
   "source": [
    "dbconfig={\"database\":\"little_lemon_db\", \"user\":\"root\", \"password\":\"\"}"
   ],
   "outputs": [],
   "metadata": {}
  },
  {
   "cell_type": "code",
   "execution_count": 80,
   "source": [
    "## here yoyr code\n",
    "try:\n",
    "    pool = MySQLConnectionPool(\n",
    "        pool_name=\"pool_b\",\n",
    "        pool_size=2,\n",
    "        #database='little_lemon',\n",
    "        #user='root',\n",
    "        #password=''\n",
    "        **dbconfig\n",
    "        )\n",
    "    print(\"The connection pool is created with a name: \",pool.pool_name)\n",
    "    print(\"The pool size is: \",pool.pool_size)\n",
    "        #\n",
    "except Error as er:\n",
    "    print(\"error code\", er.errno)\n",
    "    print(\"error message\", er.msg)"
   ],
   "outputs": [
    {
     "output_type": "stream",
     "name": "stdout",
     "text": [
      "The connection pool is created with a name:  pool_b\n",
      "The pool size is:  2\n"
     ]
    }
   ],
   "metadata": {}
  },
  {
   "cell_type": "markdown",
   "source": [
    "## Task 2: \n",
    "\n",
    "Three guests are trying to book dinner slots simultaneously. Get the connections from pool_b and insert the following data in the Bookings table:\n",
    "\n",
    "TIP: You need to add a connection to connect the third guest.\n",
    "\n",
    "\n",
    "Guest 1:\n",
    "\n",
    "    Table Number: 8\n",
    "    First Name: Anees\n",
    "    Last Name: Java\n",
    "    Booking Time: 18:00\n",
    "    EmployeeID: 6\n",
    "\n",
    "Guest 2:\n",
    "\n",
    "    Table Number: 5\n",
    "    First Name: Bald\n",
    "    Last Name: Vin\n",
    "    Booking Time: 19:00\n",
    "    EmployeeID: 6\n",
    "\n",
    "Guest 3:\n",
    "\n",
    "    Table Number: 12\n",
    "    First Name: Jay\n",
    "    Last Name: Kon\n",
    "    Booking Time: 19:30 \n",
    "    EmployeeID: 6\n",
    "\n",
    "Return all the connections back to the pool. \n",
    "\n",
    "_TIP: The pool size is two. However, you have three connected users. You can only return two connections. Returning a third connection will raise a PoolError. Use try-except to print the error message._ "
   ],
   "metadata": {}
  },
  {
   "cell_type": "code",
   "execution_count": 81,
   "source": [
    "## \n",
    "guests = {'g1':{'TableNo':8, 'GuestFirstName':'Anees','GuestLastName':'Java', 'BookingTime':'18:00','EmployeeID':6},\n",
    "'g2':{'TableNo':5, 'GuestFirstName':'Bald','GuestLastName':'Vin', 'BookingTime':'19:00','EmployeeID':6},\n",
    "'g3':{'TableNo':12, 'GuestFirstName':'Jay','GuestLastName':'Kon', 'BookingTime':'19:30','EmployeeID':6}}\n",
    "\n"
   ],
   "outputs": [],
   "metadata": {}
  },
  {
   "cell_type": "code",
   "execution_count": 82,
   "source": [
    "sql_guest_insert_rows = \"\"\"\n",
    "INSERT INTO Bookings (TableNo, GuestFirstName, GuestLastName, BookingSlot, EmployeeID)\n",
    "VALUES (%(tableno)s, %(guestfirstname)s, %(guestlastname)s, %(bookingtime)s, %(employeeid)s ) ;\n",
    "\"\"\""
   ],
   "outputs": [],
   "metadata": {}
  },
  {
   "cell_type": "code",
   "execution_count": 83,
   "source": [
    "# iterate through dictionary of Guests\n",
    "\n",
    "for  key,value in guests.items():\n",
    "    print(\"======== Connecting for guest {} \".format(key))\n",
    "    print(value)\n",
    "    tableno=value['TableNo']\n",
    "    guestfirstname=value['GuestFirstName']\n",
    "    guestlastname=value['GuestLastName']\n",
    "    bookingtime=value['BookingTime']\n",
    "    employeeid=value['EmployeeID']\n",
    "    try:\n",
    "        conn=pool.get_connection()\n",
    "    except:\n",
    "        print(\"----full pools! adding new connections for {}: \".format(key))\n",
    "        pool.add_connection()\n",
    "        conn=pool.get_connection()\n",
    "    ### now we have connection for sure!\n",
    "    if conn.is_connected():\n",
    "        cursor=conn.cursor()\n",
    "        cursor.execute(sql_guest_insert_rows, {'tableno':tableno,'guestfirstname':guestfirstname , 'guestlastname': guestlastname,'bookingtime':bookingtime,'employeeid':employeeid})\n",
    "    else:\n",
    "        print(\"no live connection made. Maybe server is down\")\n",
    "    # now that you inset changes you have to commit them in the database\n",
    "    print(\"Sending results to DB\")\n",
    "    conn.commit()\n",
    "    print(\"Returning connection to the pool!\")\n",
    "    # now give back the connection to the pool!\n",
    "    conn.close()"
   ],
   "outputs": [
    {
     "output_type": "stream",
     "name": "stdout",
     "text": [
      "======== Connecting for guest g1 \n",
      "{'TableNo': 8, 'GuestFirstName': 'Anees', 'GuestLastName': 'Java', 'BookingTime': '18:00', 'EmployeeID': 6}\n",
      "Sending results to DB\n",
      "Returning connection to the pool!\n",
      "======== Connecting for guest g2 \n",
      "{'TableNo': 5, 'GuestFirstName': 'Bald', 'GuestLastName': 'Vin', 'BookingTime': '19:00', 'EmployeeID': 6}\n",
      "Sending results to DB\n",
      "Returning connection to the pool!\n",
      "======== Connecting for guest g3 \n",
      "{'TableNo': 12, 'GuestFirstName': 'Jay', 'GuestLastName': 'Kon', 'BookingTime': '19:30', 'EmployeeID': 6}\n",
      "Sending results to DB\n",
      "Returning connection to the pool!\n"
     ]
    }
   ],
   "metadata": {}
  },
  {
   "cell_type": "code",
   "execution_count": 84,
   "source": [
    "### check current content in the database. \n",
    "\n",
    "sql_query_insert_info = \"\"\"SELECT * FROM Bookings;\"\"\"\n",
    "\n",
    "conn=pool.get_connection()\n",
    "#\n",
    "if conn.is_connected():\n",
    "    cursor=conn.cursor()\n",
    "    cursor.execute(sql_query_insert_info)\n",
    "    results_test = cursor.fetchall()\n",
    "    print(cursor.column_names)\n",
    "    for row in results_test:\n",
    "        print(row)\n",
    "else:\n",
    "    print(\"no live connection made\")\n",
    "print(\"Returning connection to the pool\")\n",
    "conn.close()"
   ],
   "outputs": [
    {
     "output_type": "stream",
     "name": "stdout",
     "text": [
      "('BookingID', 'TableNo', 'GuestFirstName', 'GuestLastName', 'BookingSlot', 'EmployeeID')\n",
      "(1, 12, 'Anna', 'Iversen', datetime.timedelta(seconds=68400), 1)\n",
      "(2, 12, 'Joakim', 'Iversen', datetime.timedelta(seconds=68400), 1)\n",
      "(3, 19, 'Vanessa', 'McCarthy', datetime.timedelta(seconds=54000), 3)\n",
      "(4, 15, 'Marcos', 'Romero', datetime.timedelta(seconds=63000), 4)\n",
      "(5, 5, 'Hiroki', 'Yamane', datetime.timedelta(seconds=66600), 2)\n",
      "(6, 8, 'Diana', 'Pinto', datetime.timedelta(seconds=72000), 5)\n",
      "(7, 8, 'Anees', 'Java', datetime.timedelta(seconds=64800), 6)\n",
      "(8, 5, 'Bald', 'Vin', datetime.timedelta(seconds=68400), 6)\n",
      "(9, 12, 'Jay', 'Kon', datetime.timedelta(seconds=70200), 6)\n",
      "Returning connection to the pool\n"
     ]
    }
   ],
   "metadata": {}
  },
  {
   "cell_type": "markdown",
   "source": [
    "## Task 3: \n",
    "\n",
    "Create a report containing the following information:\n",
    "\n",
    "1.  The name and EmployeeID of the Little Lemon manager\n",
    "2.  The name and role of the employee who receives the highest salary.\n",
    "3.  The number of guests booked between 18:00 and 20:00.\n",
    "4.  The full name and BookingID of all guests waiting to be seated with the receptionist in sorted order with respect to their BookingSlot."
   ],
   "metadata": {}
  },
  {
   "cell_type": "code",
   "execution_count": 85,
   "source": [
    "## STEP 1: sql statements\n",
    "\n",
    "sql_report_1 =\"\"\"\n",
    "SELECT EmployeeID,\n",
    "    Name,\n",
    "    Role\n",
    "    FROM Employees\n",
    "    WHERE Role ='Manager';\n",
    "\"\"\"\n",
    "sql_report_2 =\"\"\"\n",
    "SELECT EmployeeID,\n",
    "    Name,\n",
    "    Role,\n",
    "    CAST(REPLACE(REPLACE(Annual_Salary,\"$\",\"\"),\",\",\"\") AS UNSIGNED INTEGER) AS annualsalary\n",
    "FROM Employees\n",
    "ORDER BY annualsalary DESC\n",
    "LIMIT 1;\n",
    "\"\"\"\n",
    "\n",
    "sql_report_3 =\"\"\"\n",
    "SELECT BookingID,\n",
    "    HOUR(BookingSlot) as hourbooking\n",
    "FROM Bookings\n",
    "WHERE HOUR(BookingSlot) >=18 \n",
    "    AND  HOUR(BookingSlot) <=20 \n",
    ";\n",
    "\"\"\"\n",
    "\n",
    "sql_report_4 =\"\"\"\n",
    "SELECT  BookingID,\n",
    "    CONCAT(GuestFirstName,' ',GuestLastName) as fullname\n",
    "    FROM Bookings\n",
    "    ORDER BY BookingSlot ;\n",
    "\"\"\"\n",
    "\n",
    "\n",
    "\n"
   ],
   "outputs": [],
   "metadata": {}
  },
  {
   "cell_type": "code",
   "execution_count": 89,
   "source": [
    "# ensure that there is at least one connection available by closing a open connection.\n",
    "try:\n",
    "    if conn.is_connected():\n",
    "        conn.close()\n",
    "except:\n",
    "    print(\"There are connections available\")\n",
    "    "
   ],
   "outputs": [
    {
     "output_type": "stream",
     "name": "stdout",
     "text": [
      "There are connections available\n"
     ]
    }
   ],
   "metadata": {}
  },
  {
   "cell_type": "code",
   "execution_count": 90,
   "source": [
    "### performs all the calls to the sqls in order and return the values into a variable before print all the results in a report style:\n",
    "\n",
    "conn=pool.get_connection()\n",
    "#\n",
    "if conn.is_connected():\n",
    "    cursor=conn.cursor(buffered=True)\n",
    "    cursor.execute(sql_report_1)\n",
    "    #1.  The name and EmployeeID of the Little Lemon manager\n",
    "    #2.  The name and role of the employee who receives the highest salary.\n",
    "    #3.  The number of guests booked between 18:00 and 20:00.\n",
    "    #4.  The full name and BookingID of all guests waiting to be seated with the receptionist in sorted order with respect to their BookingSlot.\n",
    "    print(\"================================================================================\") \n",
    "    print(\"=================================== REPORT =====================================\")\n",
    "    print(\"================================================================================\\n\") \n",
    "    print(\"-----------------------------------------------------------------------------------\")\n",
    "    print(\"1.  The name and EmployeeID of the Little Lemon manager\\n\")\n",
    "    print(cursor.column_names)\n",
    "    results_1 = cursor.fetchall()\n",
    "    for r1 in results_1:\n",
    "        print(r1) #cursor.column_names)\n",
    "    print(\"-----------------------------------------------------------------------------------\")\n",
    "    #for row in results_test:\n",
    "    #    print(row)\n",
    "    cursor.execute(sql_report_2)\n",
    "    print(\"-----------------------------------------------------------------------------------\")\n",
    "    print(\"2.  The name and role of the employee who receives the highest salary.\\n\")\n",
    "    print(cursor.column_names)\n",
    "    results_2 = cursor.fetchall()\n",
    "    for r2 in results_2:\n",
    "        print(r2)\n",
    "    print(\"-----------------------------------------------------------------------------------\")\n",
    "    #\n",
    "    cursor.execute(sql_report_3)\n",
    "    print(\"-----------------------------------------------------------------------------------\")\n",
    "    print(\"3.  The number of guests booked between 18:00 and 20:00.\\n\")\n",
    "    print(cursor.column_names)\n",
    "    results_3 = cursor.fetchall()\n",
    "    for r3 in results_3:\n",
    "        print(r3)\n",
    "    print(\"-----------------------------------------------------------------------------------\")\n",
    "    #\n",
    "    cursor.execute(sql_report_4)\n",
    "    print(\"-----------------------------------------------------------------------------------\")\n",
    "    print(\"4.  The full name and BookingID of all guests waiting to be seated with the receptionist in sorted order with respect to their BookingSlot.\\n\")\n",
    "    print(cursor.column_names)\n",
    "    results_4 = cursor.fetchall()\n",
    "    for r4 in results_4:\n",
    "        print(r4)\n",
    "    print(\"-----------------------------------------------------------------------------------\")\n",
    "    #\n",
    "    print(\"================================================= END OF REPORT ===========================================\")\n",
    "    # \n",
    "\n",
    "else:\n",
    "    print(\"no live connection made\")\n",
    "print(\"Returning connection to the pool , to male it available for other users.\")\n",
    "conn.close()\n"
   ],
   "outputs": [
    {
     "output_type": "stream",
     "name": "stdout",
     "text": [
      "================================================================================\n",
      "=================================== REPORT =====================================\n",
      "================================================================================\n",
      "\n",
      "-----------------------------------------------------------------------------------\n",
      "1.  The name and EmployeeID of the Little Lemon manager\n",
      "\n",
      "('EmployeeID', 'Name', 'Role')\n",
      "(1, 'Mario Gollini', 'Manager')\n",
      "-----------------------------------------------------------------------------------\n",
      "-----------------------------------------------------------------------------------\n",
      "2.  The name and role of the employee who receives the highest salary.\n",
      "\n",
      "('EmployeeID', 'Name', 'Role', 'annualsalary')\n",
      "(1, 'Mario Gollini', 'Manager', 70000)\n",
      "-----------------------------------------------------------------------------------\n",
      "-----------------------------------------------------------------------------------\n",
      "3.  The number of guests booked between 18:00 and 20:00.\n",
      "\n",
      "('BookingID', 'hourbooking')\n",
      "(1, 19)\n",
      "(2, 19)\n",
      "(5, 18)\n",
      "(6, 20)\n",
      "(7, 18)\n",
      "(8, 19)\n",
      "(9, 19)\n",
      "-----------------------------------------------------------------------------------\n",
      "-----------------------------------------------------------------------------------\n",
      "4.  The full name and BookingID of all guests waiting to be seated with the receptionist in sorted order with respect to their BookingSlot.\n",
      "\n",
      "('BookingID', 'fullname')\n",
      "(3, 'Vanessa McCarthy')\n",
      "(4, 'Marcos Romero')\n",
      "(7, 'Anees Java')\n",
      "(5, 'Hiroki Yamane')\n",
      "(1, 'Anna Iversen')\n",
      "(2, 'Joakim Iversen')\n",
      "(8, 'Bald Vin')\n",
      "(9, 'Jay Kon')\n",
      "(6, 'Diana Pinto')\n",
      "-----------------------------------------------------------------------------------\n",
      "================================================= END OF REPORT ===========================================\n",
      "Returning connection to the pool , to male it available for other users.\n"
     ]
    }
   ],
   "metadata": {}
  },
  {
   "cell_type": "code",
   "execution_count": 91,
   "source": [
    "# ensure that there is at least one connection available by closing a open connection:\n",
    "try:\n",
    "    if conn.is_connected():\n",
    "        conn.close()\n",
    "except:\n",
    "    print(\"There are connections available\")"
   ],
   "outputs": [
    {
     "output_type": "stream",
     "name": "stdout",
     "text": [
      "There are connections available\n"
     ]
    }
   ],
   "metadata": {}
  },
  {
   "cell_type": "markdown",
   "source": [
    "## TASK 4:\n",
    "\n",
    "Create a stored procedure named BasicSalesReport that returns the following statistics: \n",
    "\n",
    "* Total sales\n",
    "* Average sale\n",
    "* Minimum bill paid\n",
    "* Maximum bill paid"
   ],
   "metadata": {}
  },
  {
   "cell_type": "code",
   "execution_count": 92,
   "source": [
    "sql_procedure_basicsales = \"\"\"\n",
    "CREATE PROCEDURE BasicSalesReport()\n",
    "BEGIN\n",
    "    SELECT SUM(BillAmount) AS 'Total sales',\n",
    "        AVG(BillAmount) AS 'Average sale',\n",
    "        MIN(BillAmount) AS 'Minimum bill paid',\n",
    "        MAX(BillAmount) AS 'Maximum bill paid'\n",
    "    FROM Orders;\n",
    "END\n",
    "\"\"\""
   ],
   "outputs": [],
   "metadata": {}
  },
  {
   "cell_type": "code",
   "execution_count": 93,
   "source": [
    "# create and execute\n",
    "# STEP 2\n",
    "conn=pool.get_connection()\n",
    "if conn.is_connected():\n",
    "    cursor=conn.cursor()\n",
    "    cursor.execute(sql_procedure_basicsales)\n",
    "    print(\"procedure basicsales created\")\n",
    "else:\n",
    "    print(\"no live connection made\")\n",
    "conn.close()\n",
    "print(\"the connection is placed back into the pool for the next user to connect\")\n",
    "\n"
   ],
   "outputs": [
    {
     "output_type": "stream",
     "name": "stdout",
     "text": [
      "procedure basicsales created\n",
      "the connection is placed back into the pool for the next user to connect\n"
     ]
    }
   ],
   "metadata": {}
  },
  {
   "cell_type": "code",
   "execution_count": 94,
   "source": [
    "# STEP 3 : call procedure\n",
    "\n",
    "conn=pool.get_connection()\n",
    "if conn.is_connected():\n",
    "    cursor=conn.cursor()\n",
    "    cursor.callproc(\"BasicSalesReport\")\n",
    "    results = next(cursor.stored_results())\n",
    "    columns = results.column_names\n",
    "    print(columns)\n",
    "    dataset = results.fetchall()\n",
    "\n",
    "    for row in dataset:\n",
    "        print(row)\n",
    "else:\n",
    "    print(\"no live connection made\")\n",
    "conn.close()\n",
    "print(\"the connection is placed back into the pool for the next user to connect\")"
   ],
   "outputs": [
    {
     "output_type": "stream",
     "name": "stdout",
     "text": [
      "('Total sales', 'Average sale', 'Minimum bill paid', 'Maximum bill paid')\n",
      "(Decimal('243'), Decimal('48.6000'), 37, 86)\n",
      "the connection is placed back into the pool for the next user to connect\n"
     ]
    }
   ],
   "metadata": {}
  },
  {
   "cell_type": "markdown",
   "source": [
    "## TASK 5: \n",
    "Little Lemon needs to display the next three upcoming bookings from the Bookings table on the kitchen screen to notify their chefs which orders are due next. To complete this task, carry out the following steps:\n",
    "\n",
    "* Get a connection from the pool.\n",
    "* Create a buffered cursor.\n",
    "* Combine the data from the Bookings and the Employee tables. Sort the retrieved records in ascending order. Then display the information of the first three guests. \n",
    "* Returned the connection back to the pool.\n",
    "\n",
    "The output should be as follows:\n",
    "\n",
    "[BookingSlot]\n",
    "\n",
    "[Guest_name]\n",
    "\n",
    "[Assigned to: Employee Name [Employee Role]]"
   ],
   "metadata": {}
  },
  {
   "cell_type": "code",
   "execution_count": 95,
   "source": [
    "## SQL test\n",
    "sql_test_chefnotifications = \"\"\" \n",
    "SELECT \n",
    "    Bookings.BookingID,\n",
    "    Bookings.BookingSlot,\n",
    "    CONCAT(Bookings.GuestFirstName,' ',Bookings.GuestLastName) AS Guest_name,\n",
    "    Employees.Name AS EmployeeName,\n",
    "    Employees.Role\n",
    "FROM Bookings\n",
    "LEFT JOIN Employees\n",
    "ON Bookings.EmployeeID = Employees.EmployeeID\n",
    "ORDER BY BookingSlot ASC\n",
    "LIMIT 3;\n",
    "\"\"\"\n",
    "\n"
   ],
   "outputs": [],
   "metadata": {}
  },
  {
   "cell_type": "code",
   "execution_count": 96,
   "source": [
    "# ensure there is at least one connection available by clossing an open connection:\n",
    "try:\n",
    "    if conn.is_connected():\n",
    "        conn.close()\n",
    "except:\n",
    "    print(\"There are connections available\")"
   ],
   "outputs": [
    {
     "output_type": "stream",
     "name": "stdout",
     "text": [
      "There are connections available\n"
     ]
    }
   ],
   "metadata": {}
  },
  {
   "cell_type": "code",
   "execution_count": 97,
   "source": [
    "\n",
    "## check\n",
    "conn=pool.get_connection()\n",
    "if conn.is_connected():\n",
    "    cursor=conn.cursor(buffered=True)\n",
    "    cursor.execute(sql_test_chefnotifications)\n",
    "    notificationinfo=cursor.fetchall()\n",
    "    #print(notificationinfo)\n",
    "    #print(\"procedure basicsales created\")\n",
    "    for notification in notificationinfo:\n",
    "        print(\"-----------------------\\n Booking slot {} .\\n Guest name: {} .\\n Assigned to {} : ({}) .\\n-----------------------\".format(notification[1] ,notification[2], notification[3], notification[4] ))\n",
    "else:\n",
    "    print(\"No live connection made\")\n",
    "conn.close()\n",
    "print(\"\\n\\nThe connection is placed back into the pool for the next user to connect.\")"
   ],
   "outputs": [
    {
     "output_type": "stream",
     "name": "stdout",
     "text": [
      "-----------------------\n",
      " Booking slot 15:00:00 .\n",
      " Guest name: Vanessa McCarthy .\n",
      " Assigned to Giorgos Dioudis : (Head Chef) .\n",
      "-----------------------\n",
      "-----------------------\n",
      " Booking slot 17:30:00 .\n",
      " Guest name: Marcos Romero .\n",
      " Assigned to Fatma Kaya : (Assistant Chef) .\n",
      "-----------------------\n",
      "-----------------------\n",
      " Booking slot 18:00:00 .\n",
      " Guest name: Anees Java .\n",
      " Assigned to John Millar : (Receptionist) .\n",
      "-----------------------\n",
      "\n",
      "\n",
      "The connection is placed back into the pool for the next user to connect.\n"
     ]
    }
   ],
   "metadata": {}
  }
 ],
 "metadata": {
  "orig_nbformat": 4,
  "language_info": {
   "name": "python",
   "version": "3.8.10",
   "mimetype": "text/x-python",
   "codemirror_mode": {
    "name": "ipython",
    "version": 3
   },
   "pygments_lexer": "ipython3",
   "nbconvert_exporter": "python",
   "file_extension": ".py"
  },
  "kernelspec": {
   "name": "python3",
   "display_name": "Python 3.8.10 64-bit"
  },
  "interpreter": {
   "hash": "31f2aee4e71d21fbe5cf8b01ff0e069b9275f58929596ceb00d14d90e3e16cd6"
  }
 },
 "nbformat": 4,
 "nbformat_minor": 2
}